{
 "cells": [
  {
   "attachments": {},
   "cell_type": "markdown",
   "id": "innocent-university",
   "metadata": {},
   "source": [
    "# Limpieza de bienes raíces\n",
    "\n",
    "Este es un conjunto de datos (dataset) reales que fue descargado usando técnicas de web scraping. La data contiene registros de fotocasa, el cual es uno de los sitios mas populares de bienes raíces en España. Por favor no hagas estos (web scraping) a no ser que sea para propósitos académicos.\n",
    "\n",
    "El dataset fue descargado hace algunos años por Henry Navarro y en ningún caso se obtuvo beneficio económico de ello.\n",
    "\n",
    "Contiene miles de datos de casas reales publicadas en la web www.fotocasa.com. Tu objetivo es extraer tanta información como sea posible con el conocimiento que tienes hasta ahora de ciencia de datos, por ejemplo ¿cuál es la casa mas cara en todo el dataset?\n",
    "\n",
    "Empecemos precisamente con esa pregunta... ¡Buena suerte!\n",
    "\n",
    "Let's start with precisely that question... Good luck!"
   ]
  },
  {
   "attachments": {},
   "cell_type": "markdown",
   "id": "multiple-glass",
   "metadata": {},
   "source": [
    "#### Ejercicio 00. Lee el dataset assets/real_estate.csv e intenta visualizar la tabla (★☆☆)"
   ]
  },
  {
   "cell_type": "code",
   "execution_count": 1,
   "id": "frank-heath",
   "metadata": {},
   "outputs": [
    {
     "name": "stdout",
     "output_type": "stream",
     "text": [
      "       Unnamed: 0  id_realEstates  isNew                    realEstate_name  \\\n",
      "0               1       153771986  False            ferrari 57 inmobiliaria   \n",
      "1               2       153867863  False  tecnocasa fuenlabrada ferrocarril   \n",
      "2               3       153430440  False                 look find boadilla   \n",
      "3               4       152776331  False  tecnocasa fuenlabrada ferrocarril   \n",
      "4               5       153180188  False            ferrari 57 inmobiliaria   \n",
      "...           ...             ...    ...                                ...   \n",
      "15330       15331       153901377  False                infocasa consulting   \n",
      "15331       15332       150394373  False                inmobiliaria pulpon   \n",
      "15332       15333       153901397  False             tecnocasa torrelodones   \n",
      "15333       15334       152607440  False                inmobiliaria pulpon   \n",
      "15334       15335       153901356  False                infocasa consulting   \n",
      "\n",
      "       phone_realEstate                                       url_inmueble  \\\n",
      "0           912177526.0  https://www.fotocasa.es/es/comprar/vivienda/ma...   \n",
      "1           916358736.0  https://www.fotocasa.es/es/comprar/vivienda/ma...   \n",
      "2           916350408.0  https://www.fotocasa.es/es/comprar/vivienda/ma...   \n",
      "3           916358736.0  https://www.fotocasa.es/es/comprar/vivienda/ma...   \n",
      "4           912177526.0  https://www.fotocasa.es/es/comprar/vivienda/ma...   \n",
      "...                 ...                                                ...   \n",
      "15330       911360461.0  https://www.fotocasa.es/es/comprar/vivienda/ma...   \n",
      "15331       912788039.0  https://www.fotocasa.es/es/comprar/vivienda/ma...   \n",
      "15332       912780348.0  https://www.fotocasa.es/es/comprar/vivienda/ma...   \n",
      "15333       912788039.0  https://www.fotocasa.es/es/comprar/vivienda/ma...   \n",
      "15334       911360461.0  https://www.fotocasa.es/es/comprar/vivienda/ma...   \n",
      "\n",
      "       rooms  bathrooms  surface   price  ... level4Id level5Id level6Id  \\\n",
      "0        3.0        2.0    103.0  195000  ...        0        0        0   \n",
      "1        3.0        1.0      NaN   89000  ...        0        0        0   \n",
      "2        2.0        2.0     99.0  390000  ...        0        0        0   \n",
      "3        3.0        1.0     86.0   89000  ...        0        0        0   \n",
      "4        2.0        2.0    106.0  172000  ...        0        0        0   \n",
      "...      ...        ...      ...     ...  ...      ...      ...      ...   \n",
      "15330    2.0        1.0     96.0  259470  ...        0        0        0   \n",
      "15331    3.0        1.0    150.0  165000  ...        0        0        0   \n",
      "15332    4.0        2.0    175.0  495000  ...        0        0        0   \n",
      "15333    3.0        2.0    101.0  195000  ...        0        0        0   \n",
      "15334    3.0        2.0    152.0  765000  ...        0        0        0   \n",
      "\n",
      "      level7Id level8Id accuracy          latitude          longitude zipCode  \\\n",
      "0            0        0        0  40,2948276786438  -3,44402412135624     NaN   \n",
      "1            0        0        1          40,28674           -3,79351     NaN   \n",
      "2            0        0        0  40,4115646786438  -3,90662252135624     NaN   \n",
      "3            0        0        0  40,2853785786438  -3,79508142135624     NaN   \n",
      "4            0        0        0  40,2998774864376  -3,45226301356237     NaN   \n",
      "...        ...      ...      ...               ...                ...     ...   \n",
      "15330        0        0        0          40,45416           -3,70286     NaN   \n",
      "15331        0        0        0          40,36652           -3,48951     NaN   \n",
      "15332        0        0        0          40,57444           -3,92124     NaN   \n",
      "15333        0        0        0          40,36967           -3,48105     NaN   \n",
      "15334        0        0        0          40,45773           -3,69068     NaN   \n",
      "\n",
      "      customZone  \n",
      "0            NaN  \n",
      "1            NaN  \n",
      "2            NaN  \n",
      "3            NaN  \n",
      "4            NaN  \n",
      "...          ...  \n",
      "15330        NaN  \n",
      "15331        NaN  \n",
      "15332        NaN  \n",
      "15333        NaN  \n",
      "15334        NaN  \n",
      "\n",
      "[15335 rows x 37 columns]\n"
     ]
    }
   ],
   "source": [
    "import pandas as pd\n",
    "\n",
    "# this CSV file contains semicolons instead of comas as separator\n",
    "ds = pd.read_csv('assets/real_estate.csv', sep=';')\n",
    "print(ds)"
   ]
  },
  {
   "attachments": {},
   "cell_type": "markdown",
   "id": "latin-guest",
   "metadata": {},
   "source": [
    "#### Ejercicio 01. ¿Cuál es la casa mas cara en el todo el dataset? (★☆☆)\n",
    "\n",
    "Imprime la direccion y el precio de la casa seleccionada. Por ejemplo:\n",
    "\n",
    "`The house with address General Street Nº5 is the most expensive and its price is 5000000 USD`"
   ]
  },
  {
   "cell_type": "code",
   "execution_count": 2,
   "id": "developing-optimum",
   "metadata": {},
   "outputs": [
    {
     "name": "stdout",
     "output_type": "stream",
     "text": [
      "La casa con el precio más alto es 8500000 USD y está ubicada en El Escorial\n"
     ]
    }
   ],
   "source": [
    "#ordenamos los datos por precio\n",
    "sorted_data = ds.sort_values('price', ascending=False, ignore_index=True)\n",
    "#cogemos el primer valor\n",
    "ds_sorted = sorted_data.head(1)\n",
    "ds_sorted\n",
    "#ordenamos por dirección\n",
    "address1 = ds_sorted['address']\n",
    "price_max = ds['price'].max()\n",
    "\n",
    "print('La casa con el precio más alto es ' + str(price_max) + ' USD' + ' y está ubicada en ' + address1.str.cat(sep='\\n'))\n"
   ]
  },
  {
   "attachments": {},
   "cell_type": "markdown",
   "id": "lesser-cosmetic",
   "metadata": {},
   "source": [
    "#### Ejercicio 02. ¿Cuál es la casa mas barata del dataset? (★☆☆)\n",
    "\n",
    "Imprime la dirección y el precio de la casa seleccionada. Por ejemplo:\n",
    "\n",
    "`The house with address Concrete Street Nº1 is the cheapest and its price is 12000 USD`"
   ]
  },
  {
   "cell_type": "code",
   "execution_count": 5,
   "id": "lovely-oasis",
   "metadata": {},
   "outputs": [
    {
     "name": "stdout",
     "output_type": "stream",
     "text": [
      "La casa con el precio más bajo es 0 USD y está ubicada en Plaza Canto Redondo, 5, Getafe\n"
     ]
    }
   ],
   "source": [
    "#ordenamos los datos por precio\n",
    "sorted_data = ds.sort_values('price', ascending=True, ignore_index=True)\n",
    "#cogemos el primer valor\n",
    "ds_sorted1 = sorted_data.iloc()\n",
    "ds_sorted1\n",
    "#ordenamos por dirección\n",
    "address2 = ds_sorted1['address']\n",
    "price_min = ds['price'].min()\n",
    "\n",
    "print('La casa con el precio más bajo es ' + str(price_min) + ' USD' + ' y está ubicada en ' + address2.str.cat(sep='\\n'))"
   ]
  },
  {
   "attachments": {},
   "cell_type": "markdown",
   "id": "compliant-fellowship",
   "metadata": {},
   "source": [
    "#### Ejercicio 03. ¿Cuál es la casa mas grande y la mas pequeña del dataset? (★☆☆)\n",
    "\n",
    "Imprime la dirección y el area de las casas seleccionadas. Por ejemplo:\n",
    "\n",
    "`The bigger house is located on Yukka Street Nº10 and its surface is 5000 meters`\n",
    "\n",
    "`The smaller house is located on County Road 1 N and its surface is 200 meters`"
   ]
  },
  {
   "cell_type": "code",
   "execution_count": 6,
   "id": "every-tiffany",
   "metadata": {},
   "outputs": [
    {
     "name": "stdout",
     "output_type": "stream",
     "text": [
      "La casa con la superficie más grande tiene 249000.0 metros y está localizada en Sevilla la Nueva\n",
      "La casa con la superficie más pequeña tiene 15.0 metros y está localizada en Calle Amparo,  Madrid Capital\n"
     ]
    }
   ],
   "source": [
    "#ordenamos los datos por superficie\n",
    "sd = ds.sort_values('surface', ascending=False, ignore_index=True)\n",
    "#cogemos el primer valor\n",
    "data = sd.head(1)\n",
    "data \n",
    "#ordenamos por superficie\n",
    "add1 = data['address']\n",
    "bigger_house = ds['surface'].max()\n",
    "\n",
    "print('La casa con la superficie más grande tiene ' + str(bigger_house) + ' metros' + ' y está localizada en ' + add1.str.cat(sep='\\n'))\n",
    "\n",
    "sd1 = ds.sort_values(by='surface', ascending=True, ignore_index=False)\n",
    "data1 = sd1.head(1) \n",
    "add2 = data1['address']\n",
    "smaller_house = ds['surface'].min()\n",
    "\n",
    "print('La casa con la superficie más pequeña tiene ' + str(smaller_house) + ' metros' + ' y está localizada en ' + add2.str.cat(sep='\\n'))\n",
    "\n",
    "\n",
    "\n"
   ]
  },
  {
   "attachments": {},
   "cell_type": "markdown",
   "id": "danish-spirit",
   "metadata": {},
   "source": [
    "#### Ejercicio 04. ¿Cuantas poblaciones (columna level5) contiene el dataset? (★☆☆)\n",
    "\n",
    "Imprime el nombre de las poblaciones separadas por coma. Por ejemplo:\n",
    "\n",
    "`> print(populations)`\n",
    "\n",
    "`population1, population2, population3,...`"
   ]
  },
  {
   "cell_type": "code",
   "execution_count": 7,
   "id": "exciting-accreditation",
   "metadata": {},
   "outputs": [
    {
     "name": "stdout",
     "output_type": "stream",
     "text": [
      "El dataset contiene 168 poblaciones\n",
      "Arganda del Rey, Fuenlabrada, Boadilla del Monte, Las Rozas de Madrid,  Madrid Capital, Villaviciosa de Odón, Pinto, Valdemoro, Navalcarnero, Pozuelo de Alarcón, Torrejón de Ardoz, Navalagamella, San Sebastián de los Reyes, Rivas-vaciamadrid, Alpedrete, Móstoles, San Fernando de Henares, Coslada, Becerril de la Sierra, Alcalá de Henares, Chinchón, Parla, Alcorcón, El Escorial, Leganés, Pedrezuela, Majadahonda, Villanueva de la Cañada, Villanueva del Pardillo, Torrelodones, Moralzarzal, Mejorada del Campo, Aranjuez, Corpa, Getafe, Velilla de San Antonio, Sevilla la Nueva, San Martín de la Vega, Villalbilla, Collado Villalba, Alcobendas, El Molar (Madrid), Moraleja de Enmedio, Algete, Campo Real, Torrejón de la Calzada, Colmenar Viejo, Valdemorillo, Fuente El Saz de Jarama, Tres Cantos, Arroyomolinos (Madrid), Griñón, Paracuellos de Jarama, Guadarrama, Titulcia, Galapagar, Collado Mediano, Los Molinos, San Lorenzo de El Escorial, Loeches, San Martín de Valdeiglesias, Navas del Rey, Bustarviejo, Manzanares El Real, Carabaña, Casarrubuelos, Cercedilla, Fresnedillas de la Oliva, Valdemaqueda, Robledo de Chavela, Miraflores de la Sierra, Humanes de Madrid, Valdetorres de Jarama, San Agustín del Guadalix, Ciempozuelos, Camarma de Esteruelas, Torres de la Alameda, Talamanca de Jarama, El Atazar, Hoyo de Manzanares, El Boalo - Cerceda – Mataelpino, El Álamo, Valdilecha, Valdeolmos-Alalpardo, Guadalix de la Sierra, Belmonte de Tajo, El Vellón, Brunete, Redueña, Morata de Tajuña, Tielmes, Gargantilla del Lozoya, Meco, Venturada, Quijorna, Cenicientos, Torrejón de Velasco, Navacerrada, Santa María de la Alameda, Orusco de Tajuña, Daganzo de Arriba, Villamanta, Anchuelo, Valdaracete, Ajalvir, Los Santos de la Humosa, Villamanrique de Tajo, Colmenar de Oreja, Villa del Prado, Fuentidueña de Tajo, Colmenar del Arroyo, Valdelaguna, Cubas de la Sagra, Valdeavero, Aldea del Fresno, Ribatejada, Torrelaguna, Batres, Pezuela de las Torres, Colmenarejo, Serranillos del Valle, Cobeña, Soto del Real, El Berrueco, Villanueva de Perales, Fresno de Torote - Serracines, Pozuelo del Rey, Pelayos de la Presa, La Cabrera, Nuevo Baztán, Perales de Tajuña, Villaconejos, Villarejo de Salvanés, Cadalso de los Vidrios, Santorcaz, Madarcos, Garganta de los Montes, Puentes Viejas, Torremocha de Jarama, Valdemanco, Braojos, Lozoyuela-navas-sieteiglesias, Piñuécar-gandullas, Valdepiélagos, Valverde de Alcalá, Villar del Olmo, Villamantilla, Horcajo de la Sierra, Gascones, Zarzalejo, Villavieja del Lozoya, Brea de Tajo, Estremera, Chapinería, Navarredonda, Patones, Ambite, Navalafuente, Lozoya, Canencia, Cabanillas de la Sierra, Buitrago del Lozoya, Fresno de Torote, Robregordo, Pinilla del Valle, Rascafría, La Hiruela, Montejo de la Sierra\n"
     ]
    }
   ],
   "source": [
    "#número de poblaciones unicas\n",
    "population = ds['level5'].nunique()\n",
    "#string de todas las poblaciones unicas separadas por comas\n",
    "poblacion = ', '.join(ds['level5'].unique())\n",
    "print(f'El dataset contiene {population} poblaciones')\n",
    "print(poblacion)\n"
   ]
  },
  {
   "attachments": {},
   "cell_type": "markdown",
   "id": "crazy-blame",
   "metadata": {},
   "source": [
    "#### Ejercicio 05. ¿El data set contiene valores no admitidos (NAs)? (★☆☆)\n",
    "\n",
    "Imprima un booleano (`true` o `fase`) seguido de la fila/columna que contiene el NAs."
   ]
  },
  {
   "cell_type": "code",
   "execution_count": 8,
   "id": "transparent-poetry",
   "metadata": {},
   "outputs": [
    {
     "data": {
      "text/plain": [
       "Unnamed: 0          False\n",
       "id_realEstates      False\n",
       "isNew               False\n",
       "realEstate_name      True\n",
       "phone_realEstate     True\n",
       "url_inmueble        False\n",
       "rooms                True\n",
       "bathrooms            True\n",
       "surface              True\n",
       "price               False\n",
       "date                False\n",
       "description          True\n",
       "address             False\n",
       "country             False\n",
       "level1              False\n",
       "level2              False\n",
       "level3              False\n",
       "level4               True\n",
       "level5              False\n",
       "level6               True\n",
       "level7               True\n",
       "level8               True\n",
       "upperLevel          False\n",
       "countryId           False\n",
       "level1Id            False\n",
       "level2Id            False\n",
       "level3Id            False\n",
       "level4Id            False\n",
       "level5Id            False\n",
       "level6Id            False\n",
       "level7Id            False\n",
       "level8Id            False\n",
       "accuracy            False\n",
       "latitude            False\n",
       "longitude           False\n",
       "zipCode              True\n",
       "customZone           True\n",
       "dtype: bool"
      ]
     },
     "execution_count": 8,
     "metadata": {},
     "output_type": "execute_result"
    }
   ],
   "source": [
    "d = ds.isnull().any()\n",
    "d"
   ]
  },
  {
   "attachments": {},
   "cell_type": "markdown",
   "id": "italic-hydrogen",
   "metadata": {},
   "source": [
    "#### Ejercicio 06. Elimina los NAs del data set, si aplica (★★☆)\n",
    "\n",
    "Imprima una comparación entre las dimensiones del DataFrame original versus el DataFrame después de las eliminaciones.\n"
   ]
  },
  {
   "cell_type": "code",
   "execution_count": 10,
   "id": "administrative-roads",
   "metadata": {},
   "outputs": [
    {
     "name": "stdout",
     "output_type": "stream",
     "text": [
      "las dimensiones de eliminar los nan por columna es (0, 38)\n",
      "las dimensiones de eliminar los nan por fila es (15335, 25)\n",
      "las dimensiones originales son (15335, 38)\n"
     ]
    }
   ],
   "source": [
    "\n",
    "ds.isna().sum()\n",
    "#Nan por filas\n",
    "ds_sin_nan = ds.dropna()\n",
    "#NaN por columnaas\n",
    "ds_sin_nan1 = ds.dropna(axis=1)\n",
    "\n",
    "print(f'las dimensiones de eliminar los nan por columna es {ds_sin_nan.shape}')\n",
    "\n",
    "print(f'las dimensiones de eliminar los nan por fila es {ds_sin_nan1.shape}')\n",
    "\n",
    "print(f'las dimensiones originales son {ds.shape}')\n"
   ]
  },
  {
   "attachments": {},
   "cell_type": "markdown",
   "id": "middle-china",
   "metadata": {},
   "source": [
    "#### Ejercicio 07. ¿Cuál la media de precios en la población (columna level5) de \"Arroyomolinos (Madrid)\"? (★★☆)\n",
    "\n",
    "Imprima el valor obtenido"
   ]
  },
  {
   "cell_type": "code",
   "execution_count": 10,
   "id": "nuclear-belief",
   "metadata": {},
   "outputs": [
    {
     "name": "stdout",
     "output_type": "stream",
     "text": [
      "El precio medio de en la pobblación de Arroyomolinos es de 294542 euros\n"
     ]
    }
   ],
   "source": [
    "price_mean_Am= ds[ds['level5'] == 'Arroyomolinos (Madrid)']['price'].mean()\n",
    "\n",
    "print(f'El precio medio de en la pobblación de Arroyomolinos es de {round(price_mean_Am)} euros')\n"
   ]
  },
  {
   "attachments": {},
   "cell_type": "markdown",
   "id": "concerned-radical",
   "metadata": {},
   "source": [
    "#### Ejercicio 08. Trazar el histograma de los precios para la población (level5 column) de \"Arroyomolinos (Madrid)\" y explica qué observas (★★☆)\n",
    "\n",
    "Imprime el histograma de los precios y escribe en la celda del Markdown un breve análisis del trazado.\n"
   ]
  },
  {
   "cell_type": "code",
   "execution_count": 11,
   "id": "sudden-message",
   "metadata": {},
   "outputs": [
    {
     "data": {
      "image/png": "[encoded data removed]",
      "text/plain": [
       "<Figure size 640x480 with 1 Axes>"
      ]
     },
     "metadata": {},
     "output_type": "display_data"
    }
   ],
   "source": [
    "#Importamos la biblioteca\n",
    "import matplotlib.pyplot as plt\n",
    "\n",
    "plt.hist(ds[ds['level5'] == 'Arroyomolinos (Madrid)']['price'], bins=50)\n",
    "\n",
    "#título y etiquetas\n",
    "plt.title('Precios Arroyomolinos, Madrid')\n",
    "\n",
    "plt.xlabel('precio')\n",
    "\n",
    "plt.ylabel('Repeticiones')\n",
    "\n",
    "plt.show()\n"
   ]
  },
  {
   "attachments": {},
   "cell_type": "markdown",
   "id": "impressed-combination",
   "metadata": {},
   "source": [
    "-Se observan datos poco frecuentes, lo más probable sea por que hay valores con 0\n",
    "-El precio que más se repite es de 300000 en aproximadamente más de 14 viviendas\n",
    "-Hay muchos datos '0' que probablemnte sean errores de digitar.\n",
    "-A partir de los 400000 hasta los 600000 se repiten menos llos precios."
   ]
  },
  {
   "attachments": {},
   "cell_type": "markdown",
   "id": "actual-edinburgh",
   "metadata": {},
   "source": [
    "#### Ejercicio 09. ¿ Son los precios promedios de \"Valdemorillo\" y \"Galapagar\" los mismos? (★★☆)\n",
    "\n",
    "Imprime ambos promedio y escribe una conclusion acerca de ellos"
   ]
  },
  {
   "cell_type": "code",
   "execution_count": 12,
   "id": "numeric-commerce",
   "metadata": {},
   "outputs": [
    {
     "name": "stdout",
     "output_type": "stream",
     "text": [
      "El promedio de Valdemorillo es de 363860.29 y el de Galapagar es de 360063.2. Aquí podemos ver que no son los mismos\n"
     ]
    }
   ],
   "source": [
    "# Se obtienen llos precios medios de las dos poblaciones solicitadas redondeados a dos decimales\n",
    "mean_price_valdemorillo = round(ds[ds['level5'] == 'Valdemorillo']['price'].mean(),2)\n",
    "\n",
    "mean_price_galapagar = round(ds[ds['level5'] == 'Galapagar']['price'].mean(), 2)\n",
    "\n",
    "print(f'El promedio de Valdemorillo es de {mean_price_valdemorillo} y el de Galapagar es de {mean_price_galapagar}. Aquí podemos ver que no son los mismos')"
   ]
  },
  {
   "attachments": {},
   "cell_type": "markdown",
   "id": "lonely-article",
   "metadata": {},
   "source": [
    "#### Ejercicio 10. ¿Son los promedios de precio por metro cuadrado (price/m2) de \"Valdemorillo\" y \"Galapagar\" los mismos? (★★☆)\n",
    "\n",
    "Imprime ambos promedios de precio y escribe una conclusion acerca de ellos.\n",
    "\n",
    "Pista: Crea una nueva columna llamada `pps` (price per square) y luego analiza los valore.s"
   ]
  },
  {
   "cell_type": "code",
   "execution_count": 17,
   "id": "hourly-globe",
   "metadata": {},
   "outputs": [
    {
     "name": "stdout",
     "output_type": "stream",
     "text": [
      "El precio por m2 de Valdemorillo es de 1318 €/m2 con una superficie promedio de 350 m2\n",
      "El precio por m2 de Galapagar es de 1606 €/m2 con una superficie promedio de 306 m2\n",
      "Por lo tanto podemos observar que no son los mismos\n"
     ]
    }
   ],
   "source": [
    "#Creamos una nueva columna en base al precio y a los metros cuadrados \n",
    "ds['pps'] = ds['price']/ ds['surface']\n",
    "#Se obtienen los precios medios de ambas comunidades\n",
    "ds_valdemorillo= ds[ds['level5'] == 'Valdemorillo']\n",
    "ds_galapagar = ds[ds['level5'] == 'Galapagar'] \n",
    "# Superficie media de las propiedades de cada comunidad redondeada a dos decimales\n",
    "pps_Valdemorillo = round(ds[ds['level5'] == 'Valdemorillo']['pps'].mean(), 2)\n",
    "pps_Galapagar = round(ds[ds['level5'] == 'Galapagar']['pps'].mean(), 2)\n",
    "\n",
    "mean_Valdemorillo = round(ds[ds['level5'] == 'Valdemorillo']['surface'].mean(), 2)\n",
    "mean_Galapagar = round(ds[ds['level5'] == 'Galapagar']['surface'].mean(), 2)\n",
    "\n",
    "print(f'El precio por m2 de Valdemorillo es de {round(pps_Valdemorillo)} €/m2 con una superficie promedio de {round(mean_Valdemorillo)} m2')\n",
    "print(f'El precio por m2 de Galapagar es de {round(pps_Galapagar)} €/m2 con una superficie promedio de {round(mean_Galapagar)} m2')\n",
    "print('Por lo tanto podemos observar que no son los mismos')"
   ]
  },
  {
   "attachments": {},
   "cell_type": "markdown",
   "id": "pleasant-invite",
   "metadata": {},
   "source": [
    "#### Ejercicio 11. Analiza la relación entre la superficie y el precio de las casas. (★★☆)\n",
    "\n",
    "Pista: Puedes hacer un `scatter plot` y luego escribir una conclusion al respecto."
   ]
  },
  {
   "cell_type": "code",
   "execution_count": 3,
   "id": "common-drilling",
   "metadata": {},
   "outputs": [
    {
     "data": {
      "image/png": "[encoded data removed]",
      "text/plain": [
       "<Figure size 1000x600 with 1 Axes>"
      ]
     },
     "metadata": {},
     "output_type": "display_data"
    }
   ],
   "source": [
    "import matplotlib.pyplot as plt\n",
    "\n",
    "#Creamos una nueva columna en base al precio y a los metros cuadrados \n",
    "ds['pps'] = ds['price']/ ds['surface']\n",
    "\n",
    "#Se obtienen los precios medios de ambas comunidades\n",
    "ds_valdemorillo= ds[ds['level5'] == 'Valdemorillo']\n",
    "ds_galapagar = ds[ds['level5'] == 'Galapagar'] \n",
    "\n",
    "# Superficie media de las propiedades de cada comunidad redondeada a dos decimales\n",
    "pps_Valdemorillo = round(ds[ds['level5'] == 'Valdemorillo']['pps'].mean(), 2)\n",
    "pps_Galapagar = round(ds[ds['level5'] == 'Galapagar']['pps'].mean(), 2)\n",
    "\n",
    "mean_Valdemorillo = round(ds[ds['level5'] == 'Valdemorillo']['surface'].mean(), 2)\n",
    "mean_Galapagar = round(ds[ds['level5'] == 'Galapagar']['surface'].mean(), 2)\n",
    "\n",
    "#Estoy generando una figura donde el tamaño es 10x6\n",
    "plt.figure(figsize = (10,6))\n",
    "\n",
    "#LE damos los valores que deseaos al Scatter\n",
    "plt.scatter(ds_valdemorillo['price'], ds_valdemorillo['surface'], label = \"Valdemorillo\")\n",
    "plt.scatter(ds_galapagar['price'], ds_galapagar['surface'], label = \"Galapagar\")\n",
    "\n",
    "#Insertamos un título y etiquetas\n",
    "plt.title('Scatter plot')\n",
    "plt.xlabel('precio')\n",
    "plt.ylabel('surface')\n",
    "plt.legend()\n",
    "plt.show()\n",
    "\n",
    "\n"
   ]
  },
  {
   "attachments": {},
   "cell_type": "markdown",
   "id": "ahead-liquid",
   "metadata": {},
   "source": [
    "- En esta Gráfica podemos observar que casi todas las propiedades tiene un valor promedio similar de superficie y de precio, no hay mucha dispersión.\n",
    "- Posiblemente es porque hay muchos valores 0 sin filtrar."
   ]
  },
  {
   "attachments": {},
   "cell_type": "markdown",
   "id": "coordinate-sunrise",
   "metadata": {},
   "source": [
    "#### Ejercicio 12. ¿Cuántas agencia de bienes raíces contiene el dataset? (★★☆)\n",
    "\n",
    "Imprime el valor obtenido."
   ]
  },
  {
   "cell_type": "code",
   "execution_count": 15,
   "id": "valid-honolulu",
   "metadata": {},
   "outputs": [
    {
     "name": "stdout",
     "output_type": "stream",
     "text": [
      "El total de agencias de bienes raíces es de: 1821\n"
     ]
    }
   ],
   "source": [
    "# Se obtiene mediante nunique los valores unicos que contiene la columna 'realEstate_name'\n",
    "bienes_raices_totales = ds['realEstate_name'].nunique()\n",
    "\n",
    "print(f\"El total de agencias de bienes raíces es de: {bienes_raices_totales}\")\n"
   ]
  },
  {
   "attachments": {},
   "cell_type": "markdown",
   "id": "binding-ebony",
   "metadata": {},
   "source": [
    "#### Ejercicio 13. ¿Cuál es la población (columna level5) que contiene la mayor cantidad de casas?(★★☆)\n",
    "\n",
    "Imprima la población y el número de casas."
   ]
  },
  {
   "cell_type": "code",
   "execution_count": 4,
   "id": "static-perry",
   "metadata": {},
   "outputs": [
    {
     "name": "stdout",
     "output_type": "stream",
     "text": [
      "El lugar que contiene más casa vendidas es  Madrid Capital con 6643 casas por vender\n"
     ]
    }
   ],
   "source": [
    "#Contamos las poblaciones que hay en la columna Level5\n",
    "count_lvl5 = ds['level5'].value_counts()\n",
    "#Buscamos el valor máximo\n",
    "max_pop = count_lvl5.max()\n",
    "#Obtenemos el índice con más propiedades de esta columna\n",
    "count_lvl5 = count_lvl5.idxmax()\n",
    "\n",
    "print(f'El lugar que contiene más casa vendidas es {count_lvl5} con {max_pop} casas por vender')"
   ]
  },
  {
   "attachments": {},
   "cell_type": "markdown",
   "id": "entire-classification",
   "metadata": {},
   "source": [
    "#### Ejercicio 14. Ahora vamos a trabajar con el \"cinturón sur\" de Madrid. Has un subconjunto del Dataframe original que contenga las siguientes poblaciones (columna level5): \"Fuenlabrada\",\"Leganés\",\"Getafe\",\"Alcorcón\" (★★☆)\n",
    "\n",
    "Pista: Filtra el Dataframe original usando la columna `level5` y la función `isin`"
   ]
  },
  {
   "cell_type": "code",
   "execution_count": 5,
   "id": "binary-input",
   "metadata": {},
   "outputs": [
    {
     "data": {
      "text/html": [
       "<div>\n",
       "<style scoped>\n",
       "    .dataframe tbody tr th:only-of-type {\n",
       "        vertical-align: middle;\n",
       "    }\n",
       "\n",
       "    .dataframe tbody tr th {\n",
       "        vertical-align: top;\n",
       "    }\n",
       "\n",
       "    .dataframe thead th {\n",
       "        text-align: right;\n",
       "    }\n",
       "</style>\n",
       "<table border=\"1\" class=\"dataframe\">\n",
       "  <thead>\n",
       "    <tr style=\"text-align: right;\">\n",
       "      <th></th>\n",
       "      <th>Unnamed: 0</th>\n",
       "      <th>id_realEstates</th>\n",
       "      <th>isNew</th>\n",
       "      <th>realEstate_name</th>\n",
       "      <th>phone_realEstate</th>\n",
       "      <th>url_inmueble</th>\n",
       "      <th>rooms</th>\n",
       "      <th>bathrooms</th>\n",
       "      <th>surface</th>\n",
       "      <th>price</th>\n",
       "      <th>...</th>\n",
       "      <th>level5Id</th>\n",
       "      <th>level6Id</th>\n",
       "      <th>level7Id</th>\n",
       "      <th>level8Id</th>\n",
       "      <th>accuracy</th>\n",
       "      <th>latitude</th>\n",
       "      <th>longitude</th>\n",
       "      <th>zipCode</th>\n",
       "      <th>customZone</th>\n",
       "      <th>pps</th>\n",
       "    </tr>\n",
       "  </thead>\n",
       "  <tbody>\n",
       "    <tr>\n",
       "      <th>1</th>\n",
       "      <td>2</td>\n",
       "      <td>153867863</td>\n",
       "      <td>False</td>\n",
       "      <td>tecnocasa fuenlabrada ferrocarril</td>\n",
       "      <td>916358736.0</td>\n",
       "      <td>https://www.fotocasa.es/es/comprar/vivienda/ma...</td>\n",
       "      <td>3.0</td>\n",
       "      <td>1.0</td>\n",
       "      <td>NaN</td>\n",
       "      <td>89000</td>\n",
       "      <td>...</td>\n",
       "      <td>0</td>\n",
       "      <td>0</td>\n",
       "      <td>0</td>\n",
       "      <td>0</td>\n",
       "      <td>1</td>\n",
       "      <td>40,28674</td>\n",
       "      <td>-3,79351</td>\n",
       "      <td>NaN</td>\n",
       "      <td>NaN</td>\n",
       "      <td>NaN</td>\n",
       "    </tr>\n",
       "    <tr>\n",
       "      <th>3</th>\n",
       "      <td>4</td>\n",
       "      <td>152776331</td>\n",
       "      <td>False</td>\n",
       "      <td>tecnocasa fuenlabrada ferrocarril</td>\n",
       "      <td>916358736.0</td>\n",
       "      <td>https://www.fotocasa.es/es/comprar/vivienda/ma...</td>\n",
       "      <td>3.0</td>\n",
       "      <td>1.0</td>\n",
       "      <td>86.0</td>\n",
       "      <td>89000</td>\n",
       "      <td>...</td>\n",
       "      <td>0</td>\n",
       "      <td>0</td>\n",
       "      <td>0</td>\n",
       "      <td>0</td>\n",
       "      <td>0</td>\n",
       "      <td>40,2853785786438</td>\n",
       "      <td>-3,79508142135624</td>\n",
       "      <td>NaN</td>\n",
       "      <td>NaN</td>\n",
       "      <td>1034.883721</td>\n",
       "    </tr>\n",
       "    <tr>\n",
       "      <th>85</th>\n",
       "      <td>86</td>\n",
       "      <td>153152077</td>\n",
       "      <td>False</td>\n",
       "      <td>sinergical inmobiliaria</td>\n",
       "      <td>NaN</td>\n",
       "      <td>https://www.fotocasa.es/es/comprar/vivienda/le...</td>\n",
       "      <td>1.0</td>\n",
       "      <td>1.0</td>\n",
       "      <td>50.0</td>\n",
       "      <td>107000</td>\n",
       "      <td>...</td>\n",
       "      <td>0</td>\n",
       "      <td>0</td>\n",
       "      <td>0</td>\n",
       "      <td>0</td>\n",
       "      <td>1</td>\n",
       "      <td>40,35059</td>\n",
       "      <td>-3,82693</td>\n",
       "      <td>NaN</td>\n",
       "      <td>NaN</td>\n",
       "      <td>2140.000000</td>\n",
       "    </tr>\n",
       "    <tr>\n",
       "      <th>94</th>\n",
       "      <td>95</td>\n",
       "      <td>153995577</td>\n",
       "      <td>False</td>\n",
       "      <td>viviendas365com</td>\n",
       "      <td>911226014.0</td>\n",
       "      <td>https://www.fotocasa.es/es/comprar/vivienda/le...</td>\n",
       "      <td>3.0</td>\n",
       "      <td>2.0</td>\n",
       "      <td>120.0</td>\n",
       "      <td>320000</td>\n",
       "      <td>...</td>\n",
       "      <td>0</td>\n",
       "      <td>0</td>\n",
       "      <td>0</td>\n",
       "      <td>0</td>\n",
       "      <td>0</td>\n",
       "      <td>40,31933</td>\n",
       "      <td>-3,77574</td>\n",
       "      <td>NaN</td>\n",
       "      <td>NaN</td>\n",
       "      <td>2666.666667</td>\n",
       "    </tr>\n",
       "    <tr>\n",
       "      <th>109</th>\n",
       "      <td>110</td>\n",
       "      <td>153586414</td>\n",
       "      <td>False</td>\n",
       "      <td>area uno asesores inmobiliarios</td>\n",
       "      <td>912664081.0</td>\n",
       "      <td>https://www.fotocasa.es/es/comprar/vivienda/ma...</td>\n",
       "      <td>3.0</td>\n",
       "      <td>3.0</td>\n",
       "      <td>142.0</td>\n",
       "      <td>425000</td>\n",
       "      <td>...</td>\n",
       "      <td>0</td>\n",
       "      <td>0</td>\n",
       "      <td>0</td>\n",
       "      <td>0</td>\n",
       "      <td>0</td>\n",
       "      <td>40,3313411</td>\n",
       "      <td>-3,8313868</td>\n",
       "      <td>NaN</td>\n",
       "      <td>NaN</td>\n",
       "      <td>2992.957746</td>\n",
       "    </tr>\n",
       "  </tbody>\n",
       "</table>\n",
       "<p>5 rows × 38 columns</p>\n",
       "</div>"
      ],
      "text/plain": [
       "     Unnamed: 0  id_realEstates  isNew                    realEstate_name  \\\n",
       "1             2       153867863  False  tecnocasa fuenlabrada ferrocarril   \n",
       "3             4       152776331  False  tecnocasa fuenlabrada ferrocarril   \n",
       "85           86       153152077  False            sinergical inmobiliaria   \n",
       "94           95       153995577  False                    viviendas365com   \n",
       "109         110       153586414  False    area uno asesores inmobiliarios   \n",
       "\n",
       "     phone_realEstate                                       url_inmueble  \\\n",
       "1         916358736.0  https://www.fotocasa.es/es/comprar/vivienda/ma...   \n",
       "3         916358736.0  https://www.fotocasa.es/es/comprar/vivienda/ma...   \n",
       "85                NaN  https://www.fotocasa.es/es/comprar/vivienda/le...   \n",
       "94        911226014.0  https://www.fotocasa.es/es/comprar/vivienda/le...   \n",
       "109       912664081.0  https://www.fotocasa.es/es/comprar/vivienda/ma...   \n",
       "\n",
       "     rooms  bathrooms  surface   price  ... level5Id level6Id level7Id  \\\n",
       "1      3.0        1.0      NaN   89000  ...        0        0        0   \n",
       "3      3.0        1.0     86.0   89000  ...        0        0        0   \n",
       "85     1.0        1.0     50.0  107000  ...        0        0        0   \n",
       "94     3.0        2.0    120.0  320000  ...        0        0        0   \n",
       "109    3.0        3.0    142.0  425000  ...        0        0        0   \n",
       "\n",
       "    level8Id accuracy          latitude          longitude zipCode customZone  \\\n",
       "1          0        1          40,28674           -3,79351     NaN        NaN   \n",
       "3          0        0  40,2853785786438  -3,79508142135624     NaN        NaN   \n",
       "85         0        1          40,35059           -3,82693     NaN        NaN   \n",
       "94         0        0          40,31933           -3,77574     NaN        NaN   \n",
       "109        0        0        40,3313411         -3,8313868     NaN        NaN   \n",
       "\n",
       "             pps  \n",
       "1            NaN  \n",
       "3    1034.883721  \n",
       "85   2140.000000  \n",
       "94   2666.666667  \n",
       "109  2992.957746  \n",
       "\n",
       "[5 rows x 38 columns]"
      ]
     },
     "metadata": {},
     "output_type": "display_data"
    }
   ],
   "source": [
    "#Define la las poblaciones del subset\n",
    "cinturon_sur = [\"Fuenlabrada\", \"Leganés\", \"Getafe\", \"Alcorcón\"]\n",
    "#Df con la población del level 5\n",
    "comunidades_lvl5 = ds[ds['level5'].isin(cinturon_sur)]\n",
    "display(comunidades_lvl5.head())\n"
   ]
  },
  {
   "attachments": {},
   "cell_type": "markdown",
   "id": "severe-fisher",
   "metadata": {},
   "source": [
    "#### Ejercicio 15. Traza un gráfico de barra de la media de los precios y explica lo que observas (debes usar el subconjunto obtenido de la pregunta 14) (★★★)\n",
    "\n",
    "Imprima un gráfico de barra de la media de precios y escriba en la celda Markdown un breve análisis del sector."
   ]
  },
  {
   "cell_type": "code",
   "execution_count": 7,
   "id": "lyric-bunch",
   "metadata": {},
   "outputs": [
    {
     "data": {
      "image/png": "[encoded data removed]",
      "text/plain": [
       "<Figure size 640x480 with 1 Axes>"
      ]
     },
     "metadata": {},
     "output_type": "display_data"
    }
   ],
   "source": [
    "# Redondeo a 2 decimales y agrupo por precio medio\n",
    "mean_price = round(comunidades_lvl5.groupby('level5')['price'].mean(),2)\n",
    "\n",
    "#crear el gráfico de barras\n",
    "import matplotlib.pyplot as plt\n",
    "\n",
    "#Colores para las barras\n",
    "colors = ['pink', 'brown', 'purple','orange']\n",
    "\n",
    "#Plot de las barras\n",
    "graf_barras = plt.bar(mean_price.index, mean_price.values, color=colors)\n",
    "#variable y toma el valor maximo de cada barra con su precio medio\n",
    "for barra in graf_barras:\n",
    "    y = barra.get_height()\n",
    "\n",
    "    plt.text(barra.get_x() + barra.get_width()/2, y+1, y,  ha='center', va='bottom')\n",
    "\n",
    "\n",
    "\n",
    "plt.show()"
   ]
  },
  {
   "attachments": {},
   "cell_type": "markdown",
   "id": "sublime-newspaper",
   "metadata": {},
   "source": [
    "Podemos observar que Getafe es la población en donde es más caro conseguir una propiedad, la más barata en Fuenlabrada, Leganés es la propiedad con el precio medio."
   ]
  },
  {
   "attachments": {},
   "cell_type": "markdown",
   "id": "speaking-diamond",
   "metadata": {},
   "source": [
    "#### Ejercicio 16. Calcula la media y la varianza dela muestra para las siguientes variables: precio, habitaciones, superficie y baños (debes usar el subconjunto obtenido en la pregunta 14) (★★★)\n",
    "\n",
    "Imprime ambos valores por  cada variable."
   ]
  },
  {
   "cell_type": "code",
   "execution_count": 19,
   "id": "random-feeling",
   "metadata": {},
   "outputs": [
    {
     "name": "stdout",
     "output_type": "stream",
     "text": [
      "price - Media: 223094.48070562293, Varianza: 14921367508.04902\n",
      "surface - Media: 111.75222363405337, Varianza: 4263.051760316337\n",
      "bathrooms - Media: 1.633221850613155, Varianza: 0.5717968625577321\n",
      "rooms - Media: 3.0177383592017737, Varianza: 0.7188858892927542\n"
     ]
    }
   ],
   "source": [
    "#defino una funcion para extender el proceso a cualquier columna (numerica) de cualquier dataframe\n",
    "def stats(dataset, columns):\n",
    "    #se define el dicionario results donde se almacenaran los resultados\n",
    "    resultados = {}\n",
    "    for column in columns:\n",
    "        mean = dataset[column].mean()\n",
    "        var = dataset[column].var()\n",
    "        #Los resultados se almacenan en el diccionario results con [column] como clave y (mean, var) como tupla de resultados\n",
    "        resultados[column] = (mean, var)\n",
    "\n",
    "        print(f\"{column} - Media: {mean}, Varianza: {var}\")\n",
    "#se determina el nombre de las collumnas\n",
    "col = ['price', 'surface', 'bathrooms', 'rooms']\n",
    "\n",
    "stats(comunidades_lvl5, col)"
   ]
  },
  {
   "attachments": {},
   "cell_type": "markdown",
   "id": "revolutionary-matrix",
   "metadata": {},
   "source": [
    "#### Exercise 17. What is the most expensive house of each population? You must use the subset obtained in the question 14 (★★☆)\n",
    "\n",
    "Print both the address and the price of the selected house of each population. You can print a DataFrame or a single line for each population"
   ]
  },
  {
   "cell_type": "code",
   "execution_count": 20,
   "id": "fifteen-browse",
   "metadata": {},
   "outputs": [
    {
     "data": {
      "text/html": [
       "<div>\n",
       "<style scoped>\n",
       "    .dataframe tbody tr th:only-of-type {\n",
       "        vertical-align: middle;\n",
       "    }\n",
       "\n",
       "    .dataframe tbody tr th {\n",
       "        vertical-align: top;\n",
       "    }\n",
       "\n",
       "    .dataframe thead th {\n",
       "        text-align: right;\n",
       "    }\n",
       "</style>\n",
       "<table border=\"1\" class=\"dataframe\">\n",
       "  <thead>\n",
       "    <tr style=\"text-align: right;\">\n",
       "      <th></th>\n",
       "      <th>address</th>\n",
       "      <th>price</th>\n",
       "    </tr>\n",
       "  </thead>\n",
       "  <tbody>\n",
       "    <tr>\n",
       "      <th>5585</th>\n",
       "      <td>Alcorcón</td>\n",
       "      <td>950000</td>\n",
       "    </tr>\n",
       "    <tr>\n",
       "      <th>11561</th>\n",
       "      <td>Calle de Paulo Freire, 5, Fuenlabrada</td>\n",
       "      <td>490000</td>\n",
       "    </tr>\n",
       "    <tr>\n",
       "      <th>2881</th>\n",
       "      <td>Getafe</td>\n",
       "      <td>1050000</td>\n",
       "    </tr>\n",
       "    <tr>\n",
       "      <th>10412</th>\n",
       "      <td>Avenida Reina Sofía, Leganés</td>\n",
       "      <td>650000</td>\n",
       "    </tr>\n",
       "  </tbody>\n",
       "</table>\n",
       "</div>"
      ],
      "text/plain": [
       "                                     address    price\n",
       "5585                                Alcorcón   950000\n",
       "11561  Calle de Paulo Freire, 5, Fuenlabrada   490000\n",
       "2881                                  Getafe  1050000\n",
       "10412           Avenida Reina Sofía, Leganés   650000"
      ]
     },
     "metadata": {},
     "output_type": "display_data"
    }
   ],
   "source": [
    "import pandas\n",
    "#Los índice de las casas más caras de la población level 5\n",
    "max_price = comunidades_lvl5.groupby('level5')['price'].idxmax()\n",
    "#Seleccionamos las filas y obtenemos los datos\n",
    "exp_houses = comunidades_lvl5.loc[max_price, ['address', 'price']]\n",
    "\n",
    "display(exp_houses)"
   ]
  },
  {
   "attachments": {},
   "cell_type": "markdown",
   "id": "activated-knight",
   "metadata": {},
   "source": [
    "#### Exercise 18. Normalize the variable of prices for each population and plot the 4 histograms in the same plot (you must use the subset obtained in the question 14) (★★★)\n",
    "\n",
    "For the normalization method you can use the one you consider to, there is not a single correct answer to this question. Print the plot and write in the Markdown cell a brief analysis about the plot\n",
    "\n",
    "Hint: You can help yourself reviewing the multihist demo of Matplotlib"
   ]
  },
  {
   "cell_type": "code",
   "execution_count": 21,
   "id": "civic-meditation",
   "metadata": {},
   "outputs": [
    {
     "data": {
      "text/plain": [
       "Text(0, 0.5, 'Frecuencia')"
      ]
     },
     "execution_count": 21,
     "metadata": {},
     "output_type": "execute_result"
    },
    {
     "data": {
      "image/png": "[encoded data removed]",
      "text/plain": [
       "<Figure size 640x480 with 1 Axes>"
      ]
     },
     "metadata": {},
     "output_type": "display_data"
    }
   ],
   "source": [
    "#df para cada población\n",
    "ds_g = comunidades_lvl5[comunidades_lvl5['level5']=='Getafe'].copy()\n",
    "ds_l = comunidades_lvl5[comunidades_lvl5['level5']== 'Leganés'].copy()\n",
    "ds_a = comunidades_lvl5[comunidades_lvl5['level5']== 'Alcorcón'].copy()\n",
    "ds_f = comunidades_lvl5[comunidades_lvl5['level5']== 'Fuenlabrada'].copy()\n",
    "\n",
    "#Nueva columna normalizada para cada población\n",
    "ds_g['precio_norma'] = (ds_g['price']- ds_g['price'].min())/(ds_g['price'].max() - ds_g['price'].min())\n",
    "ds_l['precio_norma'] = (ds_l['price']- ds_l['price'].min())/(ds_l['price'].max() - ds_l['price'].min())\n",
    "ds_a['precio_norma'] = (ds_a['price']- ds_a['price'].min())/(ds_a['price'].max() - ds_a['price'].min())\n",
    "ds_f['precio_norma'] = (ds_f['price']- ds_f['price'].min())/(ds_f['price'].max() - ds_f['price'].min())\n",
    "\n",
    "#Plot ajustado al 50% \n",
    "plt.hist(ds_g['precio_norma'], bins=50, alpha=0.5, label='Getafe')\n",
    "plt.hist(ds_l['precio_norma'], bins=50, alpha=0.5, label='Leganés')\n",
    "plt.hist(ds_a['precio_norma'], bins=50, alpha=0.5, label='Alcorcón')\n",
    "plt.hist(ds_f['precio_norma'], bins=50, alpha=0.5, label='Fuenlabrada')\n",
    "\n",
    "#Título y etiquetas\n",
    "plt.legend(loc='upper right')\n",
    "plt.title('Precios normalizados en la población')\n",
    "plt.xlabel('Precio Normalizado')\n",
    "plt.ylabel('Frecuencia')\n",
    "\n"
   ]
  },
  {
   "attachments": {},
   "cell_type": "markdown",
   "id": "precise-heavy",
   "metadata": {},
   "source": [
    "En eeste caso podemos observar que etse histogrma posee una asimetría hacía la izquierda, lo cual significa que hay muchos más valores a la izquierda.."
   ]
  },
  {
   "attachments": {},
   "cell_type": "markdown",
   "id": "patent-jonathan",
   "metadata": {},
   "source": [
    "#### Exercise 19. What can you say about the price per square meter (price/m2) between the towns of \"Getafe\" and \"Alcorcón\"? You must use the subset obtained in the question 14 (★★☆)\n",
    "\n",
    "Hint: Create a new column called `pps` (price per square) and then analyse the values"
   ]
  },
  {
   "cell_type": "code",
   "execution_count": 22,
   "id": "initial-liverpool",
   "metadata": {},
   "outputs": [
    {
     "name": "stdout",
     "output_type": "stream",
     "text": [
      "El valor promedio en m2 en Getafe es de 2066 euros mientras que en Alcorcón es de 2048 euros\n"
     ]
    }
   ],
   "source": [
    "#Encontramos los precios por m2 de las poblaciones Getafe y alcorcon\n",
    "pps_getafe = ds_g['pps'].mean()\n",
    "pps_alcorcon = ds_l['pps'].mean()\n",
    "\n",
    "print(f'El valor promedio en m2 en Getafe es de {round(pps_getafe)} euros mientras que en Alcorcón es de {round(pps_alcorcon)} euros')\n"
   ]
  },
  {
   "attachments": {},
   "cell_type": "markdown",
   "id": "enhanced-moscow",
   "metadata": {},
   "source": [
    "#### Exercise 20. Make the same plot for 4 different populations (level5 column) and rearrange them on the same graph? You must use the subset obtained in the question 14 (★★☆) \n",
    "Hint: make a scatter plot of each population using subplots."
   ]
  },
  {
   "cell_type": "code",
   "execution_count": 26,
   "id": "accepting-airfare",
   "metadata": {},
   "outputs": [
    {
     "data": {
      "image/png": "[encoded data removed]",
      "text/plain": [
       "<Figure size 1500x1500 with 4 Axes>"
      ]
     },
     "metadata": {},
     "output_type": "display_data"
    }
   ],
   "source": [
    "#Plot con un grid 2x2\n",
    "fig, axs = plt.subplots(2, 2, figsize=(15, 15))\n",
    "\n",
    "#Relación precio por habitación Getafe\n",
    "axs[0,0].scatter(ds_g['price'], ds_g['rooms'],color='pink', s=3 )\n",
    "axs[0,0].set_title('Getafe precio/habitaciones')\n",
    "axs[0,0].set_xlabel('precio')\n",
    "axs[0,0].set_ylabel('habitaciones')\n",
    "\n",
    "#Relación precio por habitación Leganés\n",
    "axs[0,1].scatter(ds_l['price'], ds_l['rooms'],color='blue', s=3)\n",
    "axs[0,1].set_title('Precio /habitaciones Leganés')\n",
    "axs[0,1].set_xlabel('precio')\n",
    "axs[0,1].set_ylabel('habitaciones')\n",
    "\n",
    "#Relación precio por habitación Alcorcón\n",
    "axs[1,0].scatter(ds_a['price'], ds_a['rooms'],color='purple', s=3)\n",
    "axs[1,0].set_title('Alcorcón Precio /habitaciones')\n",
    "axs[1,0].set_xlabel('precio')\n",
    "axs[1,0].set_ylabel('habitaciones')\n",
    "\n",
    "#Relación precio por habitación Fuenlabrada\n",
    "axs[1,1].scatter(ds_f['price'], ds_f['rooms'],color='turquoise', s=3)\n",
    "axs[1,1].set_title('Fuenlabrada Precio /habitaciones')\n",
    "axs[1,1].set_xlabel('precio')\n",
    "axs[1,1].set_ylabel('habitaciones')\n",
    "\n",
    "plt.show()\n",
    "\n",
    "\n"
   ]
  },
  {
   "cell_type": "markdown",
   "id": "6ab845ec",
   "metadata": {},
   "source": [
    "Podemos observar que:\n",
    "Getafe:\n",
    "-En promedio hay 3 habitaciones por casa en las casa que cuestan menos de 400000 \n",
    "- Las casas cuyo valor es superior a 400000 tienen más de 4 habitaciones \n",
    "- Se puede intuir que por más habitaciones mayor es el precio.\n",
    "- Con excepción de una casa de 7 habitaciones cuyo precio es de 600000 y la casa más cara  tiene 6 habitaciones y cuesta un millón.\n",
    "Leganés:\n",
    "- En promedo hay 3 habitaciones por casa en las casas que cuestan aproximadamente 200000\n",
    "- La casa más cara de 600000 tiene 6 habitaciones.\n",
    "- Hay muy pocas casas con 1 habitación y 5 habitaciones.\n",
    "Alcorcón:\n",
    "- En promedio hay 3 habitaciones por casa en las casa que cuestan entre 200000 y 400000 \n",
    "- Solo dos casas con 6 habitaciones\n",
    "- 3 casas con 5 habitaciones.\n",
    "- La mayoría tienen entre 3 y 4\n",
    "Fuenlabrada\n",
    "- Solo hay 2 casas con 5 habitaciones \n",
    "- Las casas cuyo valor es entre 150000 y 200000 tienen tres habitaciones\n",
    "- A partir de 200000 tienen entre 3 y 4 habitaciones\n",
    "\n",
    "En conclusión:\n",
    "- La mayoría de las casas tienen entre 3 y 4 habitaciones\n",
    "- Muy pocas casas tiene 6 habitaciones\n",
    "- solo hay una comunidad que tiene UNA casa con 7 habitaciones \n",
    "- Las casas más asequibles están en alcorcón ya que tienen 3 habitaciones y están en promedio 150000"
   ]
  },
  {
   "attachments": {},
   "cell_type": "markdown",
   "id": "blocked-effects",
   "metadata": {},
   "source": [
    "#### Ejercicio 21. Realiza un trazado de las coordenadas (columnas latitud y longitud) del cinturón ur de Madrid por color d cada población (debes usar el subconjunto obtenido en la pregunta 14) (★★★★)\n",
    "\n",
    "Ejecuta la siguiente celda y luego comienza a codear en la siguiente. Debes implementar u código simple que transforme las columnas de coordenadas en un diccionario de python (agrega más información si es necesario) y agrégala al mapa."
   ]
  },
  {
   "cell_type": "code",
   "execution_count": 35,
   "id": "db2daff7",
   "metadata": {},
   "outputs": [
    {
     "data": {
      "application/vnd.jupyter.widget-view+json": {
       "model_id": "13a9b86d75244271b3773278029c8184",
       "version_major": 2,
       "version_minor": 0
      },
      "text/plain": [
       "Map(center=[40.35, -3.83], controls=(ZoomControl(options=['position', 'zoom_in_text', 'zoom_in_title', 'zoom_o…"
      ]
     },
     "execution_count": 35,
     "metadata": {},
     "output_type": "execute_result"
    }
   ],
   "source": [
    "from ipyleaflet import Map, basemaps, LayerGroup, AwesomeIcon, LayersControl, Marker\n",
    "\n",
    "\n",
    "#eliminar  NaN\n",
    "ds_no_Nan = comunidades_lvl5.dropna(subset=['latitude', 'longitude'])\n",
    "\n",
    "\n",
    "# Crear el mapa, centrado en Madrid.\n",
    "mapa = Map(center=(40.35, -3.83), zoom=11, basemap=basemaps.OpenStreetMap.Mapnik)\n",
    "\n",
    "#Crear diccionario \n",
    "diccionario_coord = ds_no_Nan.groupby('level5').apply(lambda x: list(zip(x.latitude, x.longitude)),include_groups=False).to_dict()\n",
    "\n",
    "#corregir diccionario cambiando ',' por '.'\n",
    "diccionario_corregido = {}\n",
    "for poblacion, coords in diccionario_coord.items():\n",
    "    coords_corregidas = [(float(lat.replace(',', '.')), float(lon.replace(',', '.'))) for lat, lon in coords if lat != '0' and lon != '0']\n",
    "    diccionario_corregido[poblacion] = coords_corregidas\n",
    "\n",
    "#Lista de colores para las poblaciones   \n",
    "colores = ['red', 'purple', 'beige', 'pink']\n",
    "for i ,(poblacion, coords) in enumerate(diccionario_corregido.items()):\n",
    "    # agrupar por capas cada población\n",
    "    layer = LayerGroup(name=poblacion)\n",
    "    for lat, lon in coords:\n",
    "        # ignorar las coordenadas(0.0, 0.0) \n",
    "        if (lat, lon) != (0.0, 0.0):\n",
    "            #definir el tipo de marker\n",
    "            icon = AwesomeIcon(marker_color=colores[i % len(colores)], icon_color='white',spin=False)\n",
    "            #se define el marker con las coordenadas. No se puede mover\n",
    "            marker = Marker(location=(lat, lon), icon=icon, draggable=False)\n",
    "            layer.add_layer(marker)\n",
    "    mapa.add_layer(layer)\n",
    "#se añade control de capas para poder activar o desactivar la vicualizacion por poblaciones\n",
    "mapa.add_control(LayersControl())\n",
    "mapa\n",
    "\n"
   ]
  },
  {
   "cell_type": "code",
   "execution_count": null,
   "id": "headed-privacy",
   "metadata": {},
   "outputs": [],
   "source": [
    "\n"
   ]
  },
  {
   "cell_type": "code",
   "execution_count": null,
   "id": "present-mistress",
   "metadata": {},
   "outputs": [],
   "source": [
    "\n"
   ]
  }
 ],
 "metadata": {
  "kernelspec": {
   "display_name": "Python 3",
   "language": "python",
   "name": "python3"
  },
  "language_info": {
   "codemirror_mode": {
    "name": "ipython",
    "version": 3
   },
   "file_extension": ".py",
   "mimetype": "text/x-python",
   "name": "python",
   "nbconvert_exporter": "python",
   "pygments_lexer": "ipython3",
   "version": "3.11.4"
  }
 },
 "nbformat": 4,
 "nbformat_minor": 5
}
